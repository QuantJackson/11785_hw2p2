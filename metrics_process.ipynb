{
  "nbformat": 4,
  "nbformat_minor": 0,
  "metadata": {
    "colab": {
      "provenance": [],
      "authorship_tag": "ABX9TyMAQ+KRqvj+IQUQdQip4mVM",
      "include_colab_link": true
    },
    "kernelspec": {
      "name": "python3",
      "display_name": "Python 3"
    },
    "language_info": {
      "name": "python"
    }
  },
  "cells": [
    {
      "cell_type": "markdown",
      "metadata": {
        "id": "view-in-github",
        "colab_type": "text"
      },
      "source": [
        "<a href=\"https://colab.research.google.com/github/QuantJackson/11785_hw2p2/blob/main/metrics_process.ipynb\" target=\"_parent\"><img src=\"https://colab.research.google.com/assets/colab-badge.svg\" alt=\"Open In Colab\"/></a>"
      ]
    },
    {
      "cell_type": "code",
      "execution_count": null,
      "metadata": {
        "colab": {
          "base_uri": "https://localhost:8080/"
        },
        "id": "TY8oYPfoOM_q",
        "outputId": "73834405-6d49-47eb-929e-f2aec7442319"
      },
      "outputs": [
        {
          "output_type": "stream",
          "name": "stdout",
          "text": [
            "Mounted at /content/drive\n"
          ]
        }
      ],
      "source": [
        "from google.colab import drive\n",
        "import pandas as pd\n",
        "drive.mount('/content/drive')\n",
        "DATA_DIR = \"/content/drive/My Drive/DL Proj/data/\""
      ]
    },
    {
      "cell_type": "code",
      "source": [
        "import numpy as np\n",
        "def classify_rows(df):\n",
        "    arr = df.values\n",
        "    increasing = np.all(np.diff(arr, axis=1) > 0, axis=1) & np.all(arr > 0, axis=1)\n",
        "    decreasing = np.all(np.diff(arr, axis=1) < 0, axis=1) & np.all(arr < 0, axis=1)\n",
        "\n",
        "    return np.where(increasing, 1, np.where(decreasing, -1, 0))\n",
        "metrics = pd.read_csv(DATA_DIR + \"metrics.csv\")\n",
        "metrics[\"label\"] = classify_rows(metrics[[\"CAR_1_days\",\"CAR_3_days\"]])\n",
        "transcript = pd.read_parquet(\"/content/drive/My Drive/DL Proj/data/df_earnings.parquet\")\n",
        "metrics = pd.merge(metrics, transcript[[\"companyid\", \"mostimportantdateutc\",\"transcriptid\"]], on=[\"companyid\",\"mostimportantdateutc\"], how=\"left\")\n",
        "metrics.to_csv(DATA_DIR + \"metrics.csv\",index=False)"
      ],
      "metadata": {
        "id": "BI8cLPs2PW--"
      },
      "execution_count": null,
      "outputs": []
    },
    {
      "cell_type": "code",
      "source": [
        "metrics = pd.read_csv(DATA_DIR + \"metrics.csv\")\n",
        "metrics[\"label\"].value_counts()"
      ],
      "metadata": {
        "colab": {
          "base_uri": "https://localhost:8080/",
          "height": 209
        },
        "id": "Ou-yn1uFQJbp",
        "outputId": "7e2be485-3b43-4a64-f03a-94b3a692ec7e"
      },
      "execution_count": null,
      "outputs": [
        {
          "output_type": "execute_result",
          "data": {
            "text/plain": [
              "label\n",
              " 0    20483\n",
              "-1    10038\n",
              " 1     9903\n",
              "Name: count, dtype: int64"
            ],
            "text/html": [
              "<div>\n",
              "<style scoped>\n",
              "    .dataframe tbody tr th:only-of-type {\n",
              "        vertical-align: middle;\n",
              "    }\n",
              "\n",
              "    .dataframe tbody tr th {\n",
              "        vertical-align: top;\n",
              "    }\n",
              "\n",
              "    .dataframe thead th {\n",
              "        text-align: right;\n",
              "    }\n",
              "</style>\n",
              "<table border=\"1\" class=\"dataframe\">\n",
              "  <thead>\n",
              "    <tr style=\"text-align: right;\">\n",
              "      <th></th>\n",
              "      <th>count</th>\n",
              "    </tr>\n",
              "    <tr>\n",
              "      <th>label</th>\n",
              "      <th></th>\n",
              "    </tr>\n",
              "  </thead>\n",
              "  <tbody>\n",
              "    <tr>\n",
              "      <th>0</th>\n",
              "      <td>20483</td>\n",
              "    </tr>\n",
              "    <tr>\n",
              "      <th>-1</th>\n",
              "      <td>10038</td>\n",
              "    </tr>\n",
              "    <tr>\n",
              "      <th>1</th>\n",
              "      <td>9903</td>\n",
              "    </tr>\n",
              "  </tbody>\n",
              "</table>\n",
              "</div><br><label><b>dtype:</b> int64</label>"
            ]
          },
          "metadata": {},
          "execution_count": 9
        }
      ]
    }
  ]
}